{
 "cells": [
  {
   "cell_type": "markdown",
   "id": "1af12890",
   "metadata": {},
   "source": [
    "> ## **Assignment - Numpy Array Operations** \n",
    ">\n",
    "> The objective of this assignment is to develop a solid understanding of Numpy array operations. In this assignment you will:\n",
    "> \n",
    "> 1. Pick 5 interesting Numpy array functions by going through the documentation: https://numpy.org/doc/stable/reference/routines.html \n",
    "> 2. Run and modify this Jupyter notebook to illustrate their usage (some explanation and 3 examples for each function). Use your imagination to come up with interesting and unique examples.\n",
    "> 3. Upload this notebook to your Jovian profile using `jovian.commit` and make a submission here: https://jovian.ai/learn/zero-to-data-analyst-bootcamp/assignment/assignment-4-exploring-numpy-functions\n",
    "> 4. (Optional) Share your notebook online (on Twitter, LinkedIn, Facebook) and with the course community.\n",
    "> 5. (Optional) Check out the notebooks shared by other participants and give feedback & appreciation.\n",
    ">\n",
    "> Try to give pick a theme for your assignment and give your notebook an interesting title e.g. \"All about Numpy array operations\", \"5 Numpy functions you didn't know you needed\", \"A beginner's guide to broadcasting in Numpy\", \"Interesting ways to create Numpy arrays\", \"Trigonometic functions in Numpy\", \"How to use Python for Linear Algebra\" etc.\n",
    ">\n",
    "> **NOTE**: Remove this cell containing explanations before submitting or sharing your notebook online - to make it more presentable.\n",
    "\n",
    "\n"
   ]
  },
  {
   "cell_type": "markdown",
   "id": "17cb890a",
   "metadata": {},
   "source": [
    "# Frequently Used NumPy Functions in Machine Learning & Data Science\n",
    "\n",
    "\n",
    "**What is NumPy?**\n",
    "* NumPy stands for Numerical Python, a Python library used for working with arrays. It also has functions for working in domain of linear algebra, fourier transform, and matrices.\n",
    "\n",
    "**Why NumPy?**\n",
    "* In Python we have lists that serve the purpose of arrays,but the are slow to process. NumpPy provide an array object that is up to 50X faster than traditional Python lists.\n",
    "\n",
    "**How NumPy is faster than Lists?**\n",
    "* NumPy arrays are stored at one continuous place in memory unlike in lists, so processes can access and manipulate them very efficiently, This behavior is called Locality of Reference in computer science."
   ]
  },
  {
   "cell_type": "code",
   "execution_count": 217,
   "id": "41e3af8c",
   "metadata": {},
   "outputs": [],
   "source": [
    "!pip install jovian --upgrade -q"
   ]
  },
  {
   "cell_type": "code",
   "execution_count": 218,
   "id": "37d02543",
   "metadata": {},
   "outputs": [],
   "source": [
    "import jovian"
   ]
  },
  {
   "cell_type": "code",
   "execution_count": null,
   "id": "795cc441",
   "metadata": {},
   "outputs": [
    {
     "data": {
      "application/javascript": [
       "window.require && require([\"base/js/namespace\"],function(Jupyter){Jupyter.notebook.save_checkpoint()})"
      ],
      "text/plain": [
       "<IPython.core.display.Javascript object>"
      ]
     },
     "metadata": {},
     "output_type": "display_data"
    }
   ],
   "source": [
    "jovian.commit(project='zerotoanalyst-numpy-array-operations')"
   ]
  },
  {
   "cell_type": "markdown",
   "id": "ec9eb746",
   "metadata": {},
   "source": [
    "Let's begin by importing Numpy and listing out the functions covered in this notebook."
   ]
  },
  {
   "cell_type": "code",
   "execution_count": 220,
   "id": "781bcd40",
   "metadata": {},
   "outputs": [],
   "source": [
    "import numpy as np"
   ]
  },
  {
   "cell_type": "markdown",
   "id": "c9fe7f4b",
   "metadata": {},
   "source": [
    "### Creating a NumPy array"
   ]
  },
  {
   "cell_type": "markdown",
   "id": "4665f6e4",
   "metadata": {},
   "source": [
    "It is a normal Python list"
   ]
  },
  {
   "cell_type": "code",
   "execution_count": 221,
   "id": "59cf4646",
   "metadata": {},
   "outputs": [
    {
     "data": {
      "text/plain": [
       "[1, 2, 6, 5, 3, 3, 6, 78, 98]"
      ]
     },
     "execution_count": 221,
     "metadata": {},
     "output_type": "execute_result"
    }
   ],
   "source": [
    "array = [1,2,6,5,3,3,6,78,98]\n",
    "array"
   ]
  },
  {
   "cell_type": "markdown",
   "id": "42c17d46",
   "metadata": {},
   "source": [
    "Use `np.array()` to create a NumPy array"
   ]
  },
  {
   "cell_type": "code",
   "execution_count": 222,
   "id": "4b216870",
   "metadata": {},
   "outputs": [
    {
     "data": {
      "text/plain": [
       "array([ 2,  3,  5,  6,  7, 76,  5,  4, 32])"
      ]
     },
     "execution_count": 222,
     "metadata": {},
     "output_type": "execute_result"
    }
   ],
   "source": [
    "np_array = np.array([2,3,5,6,7,76,5,4,32])\n",
    "np_array"
   ]
  },
  {
   "cell_type": "markdown",
   "id": "9468b703",
   "metadata": {},
   "source": [
    "Lets try to create a random array with specified size and shape"
   ]
  },
  {
   "cell_type": "code",
   "execution_count": 223,
   "id": "b4729a88",
   "metadata": {},
   "outputs": [
    {
     "data": {
      "text/plain": [
       "array([[2, 3, 8],\n",
       "       [1, 3, 3],\n",
       "       [3, 7, 0],\n",
       "       [1, 9, 9],\n",
       "       [0, 4, 7]])"
      ]
     },
     "execution_count": 223,
     "metadata": {},
     "output_type": "execute_result"
    }
   ],
   "source": [
    "random_array = np.random.randint(10, size=(5,3))\n",
    "random_array"
   ]
  },
  {
   "cell_type": "markdown",
   "id": "a7578b66",
   "metadata": {},
   "source": [
    "In the random array above, it will generate a new random array every time you execute the cell.So, lets use `random.seed()` to generated a unique random array every time we execute."
   ]
  },
  {
   "cell_type": "code",
   "execution_count": 224,
   "id": "c497cebc",
   "metadata": {},
   "outputs": [
    {
     "data": {
      "text/plain": [
       "array([[10,  3,  8,  0, 19],\n",
       "       [10, 11,  9, 10,  6],\n",
       "       [ 0, 12,  7, 14, 17]])"
      ]
     },
     "execution_count": 224,
     "metadata": {},
     "output_type": "execute_result"
    }
   ],
   "source": [
    "np.random.seed(3)\n",
    "random_ar_1 = np.random.randint(20, size=(3,5))\n",
    "random_ar_1"
   ]
  },
  {
   "cell_type": "code",
   "execution_count": 225,
   "id": "87f670fd",
   "metadata": {},
   "outputs": [
    {
     "data": {
      "text/plain": [
       "array([[12, 15,  0],\n",
       "       [ 3,  3,  7],\n",
       "       [ 9, 19, 18],\n",
       "       [ 4,  6, 12],\n",
       "       [ 1,  6,  7]])"
      ]
     },
     "execution_count": 225,
     "metadata": {},
     "output_type": "execute_result"
    }
   ],
   "source": [
    "np.random.seed(seed=0)\n",
    "random_ar_2 = np.random.randint(20, size=(5,3))\n",
    "random_ar_2"
   ]
  },
  {
   "cell_type": "code",
   "execution_count": 226,
   "id": "72b7e106",
   "metadata": {},
   "outputs": [
    {
     "data": {
      "text/plain": [
       "array([[[ 5, 11, 12,  8],\n",
       "        [ 9, 11,  5, 15],\n",
       "        [ 0, 16,  1, 12]],\n",
       "\n",
       "       [[ 7, 13,  6, 18],\n",
       "        [ 5, 18, 11, 10],\n",
       "        [14, 18,  4,  9]]])"
      ]
     },
     "execution_count": 226,
     "metadata": {},
     "output_type": "execute_result"
    }
   ],
   "source": [
    "np.random.seed(1)\n",
    "random_ar_3 = np.random.randint(20, size=(2,3,4))\n",
    "random_ar_3"
   ]
  },
  {
   "cell_type": "markdown",
   "id": "c76c8b66",
   "metadata": {},
   "source": [
    "If we manually assign `seed=None` it will generate random arrays every time it executes"
   ]
  },
  {
   "cell_type": "markdown",
   "id": "03148876",
   "metadata": {},
   "source": [
    "## Function 1 - Arithmetic Operation\n",
    "\n",
    "***Example 1 - Arithmetic operation*** are basic mathematical functions used in arrays, Here we can add, subtract, multiply and divide\n"
   ]
  },
  {
   "cell_type": "code",
   "execution_count": 227,
   "id": "ba4b216f",
   "metadata": {},
   "outputs": [
    {
     "data": {
      "text/plain": [
       "array([2, 5, 6])"
      ]
     },
     "execution_count": 227,
     "metadata": {},
     "output_type": "execute_result"
    }
   ],
   "source": [
    "a1 = np.array([2, 5, 6])\n",
    "a1"
   ]
  },
  {
   "cell_type": "code",
   "execution_count": 228,
   "id": "4dcf3bd0",
   "metadata": {},
   "outputs": [
    {
     "data": {
      "text/plain": [
       "array([[3. , 7. , 9.6],\n",
       "       [7. , 4. , 8.8]])"
      ]
     },
     "execution_count": 228,
     "metadata": {},
     "output_type": "execute_result"
    }
   ],
   "source": [
    "a2 = np.array([[3, 7, 9.6],\n",
    "              [7, 4, 8.8]])\n",
    "a2"
   ]
  },
  {
   "cell_type": "code",
   "execution_count": 229,
   "id": "47fbd502",
   "metadata": {},
   "outputs": [
    {
     "data": {
      "text/plain": [
       "array([[ 5. , 12. , 15.6],\n",
       "       [ 9. ,  9. , 14.8]])"
      ]
     },
     "execution_count": 229,
     "metadata": {},
     "output_type": "execute_result"
    }
   ],
   "source": [
    "a1 + a2"
   ]
  },
  {
   "cell_type": "code",
   "execution_count": 230,
   "id": "7cedecd5",
   "metadata": {},
   "outputs": [
    {
     "data": {
      "text/plain": [
       "array([[-1. , -2. , -3.6],\n",
       "       [-5. ,  1. , -2.8]])"
      ]
     },
     "execution_count": 230,
     "metadata": {},
     "output_type": "execute_result"
    }
   ],
   "source": [
    "a1 - a2"
   ]
  },
  {
   "cell_type": "code",
   "execution_count": 231,
   "id": "d7d05078",
   "metadata": {},
   "outputs": [
    {
     "data": {
      "text/plain": [
       "array([[4. , 7. , 9. ],\n",
       "       [9. , 3. , 2.4]])"
      ]
     },
     "execution_count": 231,
     "metadata": {},
     "output_type": "execute_result"
    }
   ],
   "source": [
    "a3 = np.array([[4,7,9],\n",
    "             [9,3,2.4]])\n",
    "a3"
   ]
  },
  {
   "cell_type": "code",
   "execution_count": 232,
   "id": "02d4797b",
   "metadata": {},
   "outputs": [
    {
     "data": {
      "text/plain": [
       "array([[ 6. , 35. , 57.6],\n",
       "       [14. , 20. , 52.8]])"
      ]
     },
     "execution_count": 232,
     "metadata": {},
     "output_type": "execute_result"
    }
   ],
   "source": [
    "a2 * a1"
   ]
  },
  {
   "cell_type": "markdown",
   "id": "90768b56",
   "metadata": {},
   "source": [
    "***Example 2*** \n",
    "- If we divide 2 arrays result will be a float value\n",
    "- If we check for modulas "
   ]
  },
  {
   "cell_type": "code",
   "execution_count": 233,
   "id": "935ad114",
   "metadata": {},
   "outputs": [
    {
     "data": {
      "text/plain": [
       "array([[2. , 1.4, 1.5],\n",
       "       [4.5, 0.6, 0.4]])"
      ]
     },
     "execution_count": 233,
     "metadata": {},
     "output_type": "execute_result"
    }
   ],
   "source": [
    "a3 / a1"
   ]
  },
  {
   "cell_type": "code",
   "execution_count": 234,
   "id": "1aee0ce7",
   "metadata": {},
   "outputs": [
    {
     "data": {
      "text/plain": [
       "array([[2., 1., 1.],\n",
       "       [4., 0., 0.]])"
      ]
     },
     "execution_count": 234,
     "metadata": {},
     "output_type": "execute_result"
    }
   ],
   "source": [
    "a3 // a1"
   ]
  },
  {
   "cell_type": "code",
   "execution_count": 235,
   "id": "94a0d539",
   "metadata": {},
   "outputs": [
    {
     "data": {
      "text/plain": [
       "array([  8, 125, 216])"
      ]
     },
     "execution_count": 235,
     "metadata": {},
     "output_type": "execute_result"
    }
   ],
   "source": [
    "a1 ** 3"
   ]
  },
  {
   "cell_type": "code",
   "execution_count": 236,
   "id": "6dbed087",
   "metadata": {},
   "outputs": [
    {
     "data": {
      "text/plain": [
       "array([[3. , 7. , 9.6],\n",
       "       [7. , 4. , 8.8]])"
      ]
     },
     "execution_count": 236,
     "metadata": {},
     "output_type": "execute_result"
    }
   ],
   "source": [
    "a2"
   ]
  },
  {
   "cell_type": "code",
   "execution_count": 237,
   "id": "7a49e970",
   "metadata": {},
   "outputs": [
    {
     "data": {
      "text/plain": [
       "array([[1. , 2. , 3.6],\n",
       "       [1. , 4. , 2.8]])"
      ]
     },
     "execution_count": 237,
     "metadata": {},
     "output_type": "execute_result"
    }
   ],
   "source": [
    "a2 % a1"
   ]
  },
  {
   "cell_type": "code",
   "execution_count": null,
   "id": "3ebbb0d9",
   "metadata": {},
   "outputs": [],
   "source": []
  },
  {
   "cell_type": "code",
   "execution_count": null,
   "id": "74be076c",
   "metadata": {},
   "outputs": [],
   "source": []
  },
  {
   "cell_type": "code",
   "execution_count": null,
   "id": "358069d1",
   "metadata": {},
   "outputs": [],
   "source": []
  },
  {
   "cell_type": "markdown",
   "id": "7aeb8a3b",
   "metadata": {},
   "source": [
    "## Funtcion 2 - Aggregation\n",
    "***Example 1 -***  Aggregation = Performing same operation on a number of things \n"
   ]
  },
  {
   "cell_type": "code",
   "execution_count": 238,
   "id": "3e20a327",
   "metadata": {},
   "outputs": [
    {
     "data": {
      "text/plain": [
       "array([2, 5, 6])"
      ]
     },
     "execution_count": 238,
     "metadata": {},
     "output_type": "execute_result"
    }
   ],
   "source": [
    "a1"
   ]
  },
  {
   "cell_type": "code",
   "execution_count": 239,
   "id": "8dae6594",
   "metadata": {},
   "outputs": [
    {
     "data": {
      "text/plain": [
       "13"
      ]
     },
     "execution_count": 239,
     "metadata": {},
     "output_type": "execute_result"
    }
   ],
   "source": [
    "sum(a1)"
   ]
  },
  {
   "cell_type": "code",
   "execution_count": 240,
   "id": "7c7f2923",
   "metadata": {},
   "outputs": [
    {
     "data": {
      "text/plain": [
       "13"
      ]
     },
     "execution_count": 240,
     "metadata": {},
     "output_type": "execute_result"
    }
   ],
   "source": [
    "np.sum(a1)"
   ]
  },
  {
   "cell_type": "code",
   "execution_count": 241,
   "id": "44a61136",
   "metadata": {},
   "outputs": [
    {
     "data": {
      "text/plain": [
       "array([[3. , 7. , 9.6],\n",
       "       [7. , 4. , 8.8]])"
      ]
     },
     "execution_count": 241,
     "metadata": {},
     "output_type": "execute_result"
    }
   ],
   "source": [
    "a2"
   ]
  },
  {
   "cell_type": "code",
   "execution_count": 242,
   "id": "7e9c72eb",
   "metadata": {},
   "outputs": [
    {
     "data": {
      "text/plain": [
       "6.566666666666667"
      ]
     },
     "execution_count": 242,
     "metadata": {},
     "output_type": "execute_result"
    }
   ],
   "source": [
    "np.mean(a2)"
   ]
  },
  {
   "cell_type": "code",
   "execution_count": 243,
   "id": "fb6bc0a6",
   "metadata": {},
   "outputs": [
    {
     "data": {
      "text/plain": [
       "9.6"
      ]
     },
     "execution_count": 243,
     "metadata": {},
     "output_type": "execute_result"
    }
   ],
   "source": [
    "np.max(a2)"
   ]
  },
  {
   "cell_type": "code",
   "execution_count": 244,
   "id": "8b47a89b",
   "metadata": {},
   "outputs": [
    {
     "data": {
      "text/plain": [
       "3.0"
      ]
     },
     "execution_count": 244,
     "metadata": {},
     "output_type": "execute_result"
    }
   ],
   "source": [
    "np.min(a2)"
   ]
  },
  {
   "cell_type": "markdown",
   "id": "e6d3a854",
   "metadata": {},
   "source": [
    "***Example 2*** "
   ]
  },
  {
   "cell_type": "code",
   "execution_count": 245,
   "id": "5b2e0cf5",
   "metadata": {},
   "outputs": [
    {
     "data": {
      "text/plain": [
       "2.376037784959565"
      ]
     },
     "execution_count": 245,
     "metadata": {},
     "output_type": "execute_result"
    }
   ],
   "source": [
    "# Standard deviaiton = a measure of how spread out a group of numbers is from the mean \n",
    "np.std(a2)"
   ]
  },
  {
   "cell_type": "code",
   "execution_count": 246,
   "id": "5fced952",
   "metadata": {},
   "outputs": [
    {
     "data": {
      "text/plain": [
       "5.645555555555556"
      ]
     },
     "execution_count": 246,
     "metadata": {},
     "output_type": "execute_result"
    }
   ],
   "source": []
  },
  {
   "cell_type": "code",
   "execution_count": 247,
   "id": "f531c3fc",
   "metadata": {},
   "outputs": [],
   "source": [
    "high_var_array = np.array([1, 10, 100, 200, 4000, 5000])\n",
    "low_var_array = np.array([2,4,6,8,10,12])"
   ]
  },
  {
   "cell_type": "code",
   "execution_count": 248,
   "id": "4a6df1ac",
   "metadata": {},
   "outputs": [
    {
     "data": {
      "text/plain": [
       "(4433496.805555556, 11.666666666666666)"
      ]
     },
     "execution_count": 248,
     "metadata": {},
     "output_type": "execute_result"
    }
   ],
   "source": [
    "np.var(high_var_array), np.var(low_var_array)"
   ]
  },
  {
   "cell_type": "code",
   "execution_count": null,
   "id": "a4d7c5e8",
   "metadata": {},
   "outputs": [],
   "source": []
  },
  {
   "cell_type": "code",
   "execution_count": null,
   "id": "8fbeaf3c",
   "metadata": {},
   "outputs": [],
   "source": []
  },
  {
   "cell_type": "markdown",
   "id": "b38215bb",
   "metadata": {},
   "source": [
    "***Example 3***"
   ]
  },
  {
   "cell_type": "code",
   "execution_count": null,
   "id": "8297dc32",
   "metadata": {},
   "outputs": [],
   "source": []
  },
  {
   "cell_type": "code",
   "execution_count": 295,
   "id": "173b4273",
   "metadata": {},
   "outputs": [
    {
     "data": {
      "text/plain": [
       "5.645555555555556"
      ]
     },
     "execution_count": 295,
     "metadata": {},
     "output_type": "execute_result"
    }
   ],
   "source": [
    "# Variance = the measure of average degree to which each number is different to the mean\n",
    "# Higher variance = higher range of numbers\n",
    "# Lower variance = lower range of numbers\n",
    "\n",
    "np.var(a2)"
   ]
  },
  {
   "cell_type": "code",
   "execution_count": 249,
   "id": "5c74609b",
   "metadata": {},
   "outputs": [
    {
     "data": {
      "text/plain": [
       "(2105.5870453523303, 3.415650255319866)"
      ]
     },
     "execution_count": 249,
     "metadata": {},
     "output_type": "execute_result"
    }
   ],
   "source": [
    "np.std(high_var_array), np.std(low_var_array)"
   ]
  },
  {
   "cell_type": "code",
   "execution_count": 250,
   "id": "d4a0394d",
   "metadata": {},
   "outputs": [
    {
     "data": {
      "text/plain": [
       "(1551.8333333333333, 7.0)"
      ]
     },
     "execution_count": 250,
     "metadata": {},
     "output_type": "execute_result"
    }
   ],
   "source": [
    "np.mean(high_var_array), np.mean(low_var_array)"
   ]
  },
  {
   "cell_type": "markdown",
   "id": "0b2013d3",
   "metadata": {},
   "source": [
    "## Function 3 - Reshape & Transpose\n",
    "\n"
   ]
  },
  {
   "cell_type": "markdown",
   "id": "f09492d2",
   "metadata": {},
   "source": [
    "***Example 1 - Reshape***"
   ]
  },
  {
   "cell_type": "code",
   "execution_count": 251,
   "id": "dc36a926",
   "metadata": {},
   "outputs": [
    {
     "data": {
      "text/plain": [
       "array([[3. , 7. , 9.6],\n",
       "       [7. , 4. , 8.8]])"
      ]
     },
     "execution_count": 251,
     "metadata": {},
     "output_type": "execute_result"
    }
   ],
   "source": [
    "a2"
   ]
  },
  {
   "cell_type": "code",
   "execution_count": 252,
   "id": "9e99f1a1",
   "metadata": {},
   "outputs": [
    {
     "data": {
      "text/plain": [
       "(2, 3)"
      ]
     },
     "execution_count": 252,
     "metadata": {},
     "output_type": "execute_result"
    }
   ],
   "source": [
    "a2.shape"
   ]
  },
  {
   "cell_type": "code",
   "execution_count": 253,
   "id": "4e9d1de6",
   "metadata": {},
   "outputs": [
    {
     "data": {
      "text/plain": [
       "array([[[ 5, 11, 12,  8],\n",
       "        [ 9, 11,  5, 15],\n",
       "        [ 0, 16,  1, 12]],\n",
       "\n",
       "       [[ 7, 13,  6, 18],\n",
       "        [ 5, 18, 11, 10],\n",
       "        [14, 18,  4,  9]]])"
      ]
     },
     "execution_count": 253,
     "metadata": {},
     "output_type": "execute_result"
    }
   ],
   "source": [
    "random_ar_3"
   ]
  },
  {
   "cell_type": "code",
   "execution_count": 254,
   "id": "70db4b6b",
   "metadata": {},
   "outputs": [
    {
     "data": {
      "text/plain": [
       "(2, 3, 4)"
      ]
     },
     "execution_count": 254,
     "metadata": {},
     "output_type": "execute_result"
    }
   ],
   "source": [
    "random_ar_3.shape"
   ]
  },
  {
   "cell_type": "code",
   "execution_count": 255,
   "id": "5ffeccb6",
   "metadata": {},
   "outputs": [
    {
     "data": {
      "text/plain": [
       "array([[[3. ],\n",
       "        [7. ],\n",
       "        [9.6]],\n",
       "\n",
       "       [[7. ],\n",
       "        [4. ],\n",
       "        [8.8]]])"
      ]
     },
     "execution_count": 255,
     "metadata": {},
     "output_type": "execute_result"
    }
   ],
   "source": [
    "a2_reshape = a2.reshape(2,3,1)\n",
    "a2_reshape"
   ]
  },
  {
   "cell_type": "code",
   "execution_count": 256,
   "id": "49a47413",
   "metadata": {},
   "outputs": [
    {
     "data": {
      "text/plain": [
       "array([[[ 15. ,  33. ,  36. ,  24. ],\n",
       "        [ 63. ,  77. ,  35. , 105. ],\n",
       "        [  0. , 153.6,   9.6, 115.2]],\n",
       "\n",
       "       [[ 49. ,  91. ,  42. , 126. ],\n",
       "        [ 20. ,  72. ,  44. ,  40. ],\n",
       "        [123.2, 158.4,  35.2,  79.2]]])"
      ]
     },
     "execution_count": 256,
     "metadata": {},
     "output_type": "execute_result"
    }
   ],
   "source": [
    "a2_reshape * random_ar_3"
   ]
  },
  {
   "cell_type": "markdown",
   "id": "929b72ae",
   "metadata": {},
   "source": [
    "***Example 2 - Transpose***"
   ]
  },
  {
   "cell_type": "code",
   "execution_count": 257,
   "id": "7b605e7b",
   "metadata": {},
   "outputs": [
    {
     "data": {
      "text/plain": [
       "array([[3. , 7. , 9.6],\n",
       "       [7. , 4. , 8.8]])"
      ]
     },
     "execution_count": 257,
     "metadata": {},
     "output_type": "execute_result"
    }
   ],
   "source": [
    "a2"
   ]
  },
  {
   "cell_type": "code",
   "execution_count": 258,
   "id": "f029f640",
   "metadata": {},
   "outputs": [
    {
     "data": {
      "text/plain": [
       "(2, 3)"
      ]
     },
     "execution_count": 258,
     "metadata": {},
     "output_type": "execute_result"
    }
   ],
   "source": [
    "a2.shape"
   ]
  },
  {
   "cell_type": "code",
   "execution_count": 259,
   "id": "b6179511",
   "metadata": {},
   "outputs": [
    {
     "data": {
      "text/plain": [
       "array([[3. , 7. ],\n",
       "       [7. , 4. ],\n",
       "       [9.6, 8.8]])"
      ]
     },
     "execution_count": 259,
     "metadata": {},
     "output_type": "execute_result"
    }
   ],
   "source": [
    "a2.T"
   ]
  },
  {
   "cell_type": "code",
   "execution_count": 260,
   "id": "effac7c1",
   "metadata": {},
   "outputs": [
    {
     "data": {
      "text/plain": [
       "(3, 2)"
      ]
     },
     "execution_count": 260,
     "metadata": {},
     "output_type": "execute_result"
    }
   ],
   "source": [
    "a2.T.shape"
   ]
  },
  {
   "cell_type": "code",
   "execution_count": 261,
   "id": "f44302b2",
   "metadata": {},
   "outputs": [
    {
     "data": {
      "text/plain": [
       "array([[[ 5, 11, 12,  8],\n",
       "        [ 9, 11,  5, 15],\n",
       "        [ 0, 16,  1, 12]],\n",
       "\n",
       "       [[ 7, 13,  6, 18],\n",
       "        [ 5, 18, 11, 10],\n",
       "        [14, 18,  4,  9]]])"
      ]
     },
     "execution_count": 261,
     "metadata": {},
     "output_type": "execute_result"
    }
   ],
   "source": [
    "random_ar_3"
   ]
  },
  {
   "cell_type": "code",
   "execution_count": 262,
   "id": "21bb1860",
   "metadata": {},
   "outputs": [
    {
     "data": {
      "text/plain": [
       "(2, 3, 4)"
      ]
     },
     "execution_count": 262,
     "metadata": {},
     "output_type": "execute_result"
    }
   ],
   "source": [
    "random_ar_3.shape"
   ]
  },
  {
   "cell_type": "code",
   "execution_count": 263,
   "id": "f6146508",
   "metadata": {},
   "outputs": [
    {
     "data": {
      "text/plain": [
       "array([[[ 5,  7],\n",
       "        [ 9,  5],\n",
       "        [ 0, 14]],\n",
       "\n",
       "       [[11, 13],\n",
       "        [11, 18],\n",
       "        [16, 18]],\n",
       "\n",
       "       [[12,  6],\n",
       "        [ 5, 11],\n",
       "        [ 1,  4]],\n",
       "\n",
       "       [[ 8, 18],\n",
       "        [15, 10],\n",
       "        [12,  9]]])"
      ]
     },
     "execution_count": 263,
     "metadata": {},
     "output_type": "execute_result"
    }
   ],
   "source": [
    "random_ar_3.T"
   ]
  },
  {
   "cell_type": "code",
   "execution_count": 264,
   "id": "48472bfa",
   "metadata": {},
   "outputs": [
    {
     "data": {
      "text/plain": [
       "(4, 3, 2)"
      ]
     },
     "execution_count": 264,
     "metadata": {},
     "output_type": "execute_result"
    }
   ],
   "source": [
    "random_ar_3.T.shape"
   ]
  },
  {
   "cell_type": "markdown",
   "id": "966296b8",
   "metadata": {},
   "source": [
    "## Function 4 - Linear Algebra"
   ]
  },
  {
   "cell_type": "code",
   "execution_count": 265,
   "id": "dd1f3cfb",
   "metadata": {},
   "outputs": [
    {
     "data": {
      "text/plain": [
       "array([[5, 0, 3],\n",
       "       [3, 7, 9],\n",
       "       [3, 5, 2],\n",
       "       [4, 7, 6],\n",
       "       [8, 8, 1]])"
      ]
     },
     "execution_count": 265,
     "metadata": {},
     "output_type": "execute_result"
    }
   ],
   "source": [
    "np.random.seed(0)\n",
    "mat1 = np.random.randint(10, size=(5,3))\n",
    "mat2 = np.random.randint(10, size=(5,3))\n",
    "\n",
    "mat1"
   ]
  },
  {
   "cell_type": "code",
   "execution_count": 266,
   "id": "a51d8e50",
   "metadata": {},
   "outputs": [
    {
     "data": {
      "text/plain": [
       "array([[6, 7, 7],\n",
       "       [8, 1, 5],\n",
       "       [9, 8, 9],\n",
       "       [4, 3, 0],\n",
       "       [3, 5, 0]])"
      ]
     },
     "execution_count": 266,
     "metadata": {},
     "output_type": "execute_result"
    }
   ],
   "source": [
    "mat2"
   ]
  },
  {
   "cell_type": "code",
   "execution_count": 267,
   "id": "3a183269",
   "metadata": {},
   "outputs": [],
   "source": [
    "# np.dot(mat1, mat2)"
   ]
  },
  {
   "cell_type": "code",
   "execution_count": 268,
   "id": "cf38ad7d",
   "metadata": {},
   "outputs": [
    {
     "data": {
      "text/plain": [
       "array([[ 51,  55,  72,  20,  15],\n",
       "       [130,  76, 164,  33,  44],\n",
       "       [ 67,  39,  85,  27,  34],\n",
       "       [115,  69, 146,  37,  47],\n",
       "       [111,  77, 145,  56,  64]])"
      ]
     },
     "execution_count": 268,
     "metadata": {},
     "output_type": "execute_result"
    }
   ],
   "source": [
    "mat3 = np.dot(mat1, mat2.T)\n",
    "mat3"
   ]
  },
  {
   "cell_type": "code",
   "execution_count": null,
   "id": "770b132b",
   "metadata": {},
   "outputs": [],
   "source": []
  },
  {
   "cell_type": "code",
   "execution_count": null,
   "id": "155e82eb",
   "metadata": {},
   "outputs": [],
   "source": []
  },
  {
   "cell_type": "code",
   "execution_count": null,
   "id": "895bbd1c",
   "metadata": {},
   "outputs": [],
   "source": []
  },
  {
   "cell_type": "code",
   "execution_count": null,
   "id": "4938e6bb",
   "metadata": {},
   "outputs": [],
   "source": []
  },
  {
   "cell_type": "code",
   "execution_count": null,
   "id": "6272bdc9",
   "metadata": {},
   "outputs": [],
   "source": []
  },
  {
   "cell_type": "code",
   "execution_count": null,
   "id": "71637885",
   "metadata": {},
   "outputs": [],
   "source": []
  },
  {
   "cell_type": "markdown",
   "id": "8eac261f",
   "metadata": {},
   "source": [
    "## Function 5 - Comparision Operators"
   ]
  },
  {
   "cell_type": "code",
   "execution_count": 269,
   "id": "c8ca89a0",
   "metadata": {},
   "outputs": [
    {
     "data": {
      "text/plain": [
       "array([2, 5, 6])"
      ]
     },
     "execution_count": 269,
     "metadata": {},
     "output_type": "execute_result"
    }
   ],
   "source": [
    "a1"
   ]
  },
  {
   "cell_type": "code",
   "execution_count": 270,
   "id": "cda95d1d",
   "metadata": {},
   "outputs": [
    {
     "data": {
      "text/plain": [
       "array([[3. , 7. , 9.6],\n",
       "       [7. , 4. , 8.8]])"
      ]
     },
     "execution_count": 270,
     "metadata": {},
     "output_type": "execute_result"
    }
   ],
   "source": [
    "a2"
   ]
  },
  {
   "cell_type": "code",
   "execution_count": 271,
   "id": "fd02956a",
   "metadata": {},
   "outputs": [
    {
     "data": {
      "text/plain": [
       "array([[False, False, False],\n",
       "       [False,  True, False]])"
      ]
     },
     "execution_count": 271,
     "metadata": {},
     "output_type": "execute_result"
    }
   ],
   "source": [
    "a1 > a2"
   ]
  },
  {
   "cell_type": "code",
   "execution_count": 272,
   "id": "b28a63ac",
   "metadata": {},
   "outputs": [
    {
     "data": {
      "text/plain": [
       "array([[False, False, False],\n",
       "       [False,  True, False]])"
      ]
     },
     "execution_count": 272,
     "metadata": {},
     "output_type": "execute_result"
    }
   ],
   "source": [
    "a1 >= a2"
   ]
  },
  {
   "cell_type": "code",
   "execution_count": 273,
   "id": "fa483c3b",
   "metadata": {},
   "outputs": [
    {
     "data": {
      "text/plain": [
       "array([[False, False, False],\n",
       "       [False, False, False]])"
      ]
     },
     "execution_count": 273,
     "metadata": {},
     "output_type": "execute_result"
    }
   ],
   "source": [
    "a1 == a2"
   ]
  },
  {
   "cell_type": "code",
   "execution_count": 274,
   "id": "d1bd9e58",
   "metadata": {},
   "outputs": [
    {
     "data": {
      "text/plain": [
       "array([[ True,  True,  True],\n",
       "       [ True,  True,  True]])"
      ]
     },
     "execution_count": 274,
     "metadata": {},
     "output_type": "execute_result"
    }
   ],
   "source": [
    "a1 != a2"
   ]
  },
  {
   "cell_type": "code",
   "execution_count": 275,
   "id": "c5d2d9ad",
   "metadata": {},
   "outputs": [
    {
     "data": {
      "text/plain": [
       "array([False, False,  True])"
      ]
     },
     "execution_count": 275,
     "metadata": {},
     "output_type": "execute_result"
    }
   ],
   "source": [
    "a1 > 5"
   ]
  },
  {
   "cell_type": "code",
   "execution_count": 276,
   "id": "de9a83a9",
   "metadata": {},
   "outputs": [
    {
     "data": {
      "text/plain": [
       "array([[ True, False, False],\n",
       "       [False,  True, False]])"
      ]
     },
     "execution_count": 276,
     "metadata": {},
     "output_type": "execute_result"
    }
   ],
   "source": [
    "bool_array = a2 < 7\n",
    "bool_array"
   ]
  },
  {
   "cell_type": "code",
   "execution_count": 277,
   "id": "41bad889",
   "metadata": {},
   "outputs": [
    {
     "data": {
      "text/plain": [
       "dtype('bool')"
      ]
     },
     "execution_count": 277,
     "metadata": {},
     "output_type": "execute_result"
    }
   ],
   "source": [
    "bool_array.dtype"
   ]
  },
  {
   "cell_type": "markdown",
   "id": "67004716",
   "metadata": {},
   "source": [
    "## Function 6 - Sorting Operation"
   ]
  },
  {
   "cell_type": "markdown",
   "id": "40799c12",
   "metadata": {},
   "source": [
    "### Sort using `np.sort()`"
   ]
  },
  {
   "cell_type": "code",
   "execution_count": 278,
   "id": "b939842a",
   "metadata": {},
   "outputs": [
    {
     "data": {
      "text/plain": [
       "array([[10,  3,  8,  0, 19],\n",
       "       [10, 11,  9, 10,  6],\n",
       "       [ 0, 12,  7, 14, 17]])"
      ]
     },
     "execution_count": 278,
     "metadata": {},
     "output_type": "execute_result"
    }
   ],
   "source": [
    "random_ar_1"
   ]
  },
  {
   "cell_type": "code",
   "execution_count": 279,
   "id": "b3a3f6b4",
   "metadata": {},
   "outputs": [
    {
     "data": {
      "text/plain": [
       "array([[ 0,  3,  8, 10, 19],\n",
       "       [ 6,  9, 10, 10, 11],\n",
       "       [ 0,  7, 12, 14, 17]])"
      ]
     },
     "execution_count": 279,
     "metadata": {},
     "output_type": "execute_result"
    }
   ],
   "source": [
    "np.sort(random_ar_1)"
   ]
  },
  {
   "cell_type": "code",
   "execution_count": 280,
   "id": "fed4d9d7",
   "metadata": {},
   "outputs": [
    {
     "data": {
      "text/plain": [
       "array([[12, 15,  0],\n",
       "       [ 3,  3,  7],\n",
       "       [ 9, 19, 18],\n",
       "       [ 4,  6, 12],\n",
       "       [ 1,  6,  7]])"
      ]
     },
     "execution_count": 280,
     "metadata": {},
     "output_type": "execute_result"
    }
   ],
   "source": [
    "random_ar_2"
   ]
  },
  {
   "cell_type": "code",
   "execution_count": 281,
   "id": "3d77fe1f",
   "metadata": {},
   "outputs": [
    {
     "data": {
      "text/plain": [
       "array([[ 1,  3,  0],\n",
       "       [ 3,  6,  7],\n",
       "       [ 4,  6,  7],\n",
       "       [ 9, 15, 12],\n",
       "       [12, 19, 18]])"
      ]
     },
     "execution_count": 281,
     "metadata": {},
     "output_type": "execute_result"
    }
   ],
   "source": [
    "np.msort(random_ar_2)"
   ]
  },
  {
   "cell_type": "code",
   "execution_count": null,
   "id": "d1433437",
   "metadata": {},
   "outputs": [],
   "source": []
  },
  {
   "cell_type": "markdown",
   "id": "f3245706",
   "metadata": {},
   "source": [
    "### argsort `np.argsort()`"
   ]
  },
  {
   "cell_type": "code",
   "execution_count": 282,
   "id": "cf3dc300",
   "metadata": {},
   "outputs": [
    {
     "data": {
      "text/plain": [
       "array([  9,  53,  16, 387, 125, 678])"
      ]
     },
     "execution_count": 282,
     "metadata": {},
     "output_type": "execute_result"
    }
   ],
   "source": [
    "sort_arr = np.array([9,53,16,387,125,678])\n",
    "sort_arr"
   ]
  },
  {
   "cell_type": "code",
   "execution_count": 283,
   "id": "0d95a91e",
   "metadata": {},
   "outputs": [
    {
     "data": {
      "text/plain": [
       "array([0, 2, 1, 4, 3, 5])"
      ]
     },
     "execution_count": 283,
     "metadata": {},
     "output_type": "execute_result"
    }
   ],
   "source": [
    "np.argsort(sort_arr)"
   ]
  },
  {
   "cell_type": "code",
   "execution_count": 284,
   "id": "bf50133e",
   "metadata": {},
   "outputs": [
    {
     "data": {
      "text/plain": [
       "5"
      ]
     },
     "execution_count": 284,
     "metadata": {},
     "output_type": "execute_result"
    }
   ],
   "source": [
    "np.argmax(sort_arr)"
   ]
  },
  {
   "cell_type": "code",
   "execution_count": 285,
   "id": "25dafd5f",
   "metadata": {},
   "outputs": [
    {
     "data": {
      "text/plain": [
       "0"
      ]
     },
     "execution_count": 285,
     "metadata": {},
     "output_type": "execute_result"
    }
   ],
   "source": [
    "np.argmin(sort_arr)"
   ]
  },
  {
   "cell_type": "code",
   "execution_count": null,
   "id": "89c788ae",
   "metadata": {},
   "outputs": [],
   "source": []
  },
  {
   "cell_type": "code",
   "execution_count": 286,
   "id": "5a290441",
   "metadata": {},
   "outputs": [
    {
     "data": {
      "text/plain": [
       "array([[10,  3,  8,  0, 19],\n",
       "       [10, 11,  9, 10,  6],\n",
       "       [ 0, 12,  7, 14, 17]])"
      ]
     },
     "execution_count": 286,
     "metadata": {},
     "output_type": "execute_result"
    }
   ],
   "source": [
    "random_ar_1"
   ]
  },
  {
   "cell_type": "code",
   "execution_count": 287,
   "id": "f063ecfa",
   "metadata": {},
   "outputs": [
    {
     "data": {
      "text/plain": [
       "array([[3, 1, 2, 0, 4],\n",
       "       [4, 2, 0, 3, 1],\n",
       "       [0, 2, 1, 3, 4]])"
      ]
     },
     "execution_count": 287,
     "metadata": {},
     "output_type": "execute_result"
    }
   ],
   "source": [
    "np.argsort(random_ar_1)"
   ]
  },
  {
   "cell_type": "code",
   "execution_count": 288,
   "id": "f2512ac2",
   "metadata": {},
   "outputs": [
    {
     "data": {
      "text/plain": [
       "array([[2, 0, 2, 0, 1],\n",
       "       [0, 1, 0, 1, 2],\n",
       "       [1, 2, 1, 2, 0]])"
      ]
     },
     "execution_count": 288,
     "metadata": {},
     "output_type": "execute_result"
    }
   ],
   "source": [
    "np.argsort(random_ar_1, axis=0)"
   ]
  },
  {
   "cell_type": "code",
   "execution_count": 289,
   "id": "5eac3a26",
   "metadata": {},
   "outputs": [
    {
     "data": {
      "text/plain": [
       "array([[3, 1, 2, 0, 4],\n",
       "       [4, 2, 0, 3, 1],\n",
       "       [0, 2, 1, 3, 4]])"
      ]
     },
     "execution_count": 289,
     "metadata": {},
     "output_type": "execute_result"
    }
   ],
   "source": [
    "np.argsort(random_ar_1, axis=1)"
   ]
  },
  {
   "cell_type": "code",
   "execution_count": 290,
   "id": "f612c8f0",
   "metadata": {},
   "outputs": [
    {
     "data": {
      "text/plain": [
       "4"
      ]
     },
     "execution_count": 290,
     "metadata": {},
     "output_type": "execute_result"
    }
   ],
   "source": [
    "np.argmax(random_ar_1)"
   ]
  },
  {
   "cell_type": "code",
   "execution_count": 291,
   "id": "aae1abde",
   "metadata": {},
   "outputs": [
    {
     "data": {
      "text/plain": [
       "array([0, 2, 1, 2, 0])"
      ]
     },
     "execution_count": 291,
     "metadata": {},
     "output_type": "execute_result"
    }
   ],
   "source": [
    "np.argmax(random_ar_1, axis=0)"
   ]
  },
  {
   "cell_type": "code",
   "execution_count": 292,
   "id": "1e8621df",
   "metadata": {},
   "outputs": [
    {
     "data": {
      "text/plain": [
       "array([4, 1, 4])"
      ]
     },
     "execution_count": 292,
     "metadata": {},
     "output_type": "execute_result"
    }
   ],
   "source": [
    "np.argmax(random_ar_1, axis=1)"
   ]
  },
  {
   "cell_type": "code",
   "execution_count": null,
   "id": "cb225f14",
   "metadata": {},
   "outputs": [],
   "source": []
  },
  {
   "cell_type": "code",
   "execution_count": 293,
   "id": "ae4cbf07",
   "metadata": {},
   "outputs": [
    {
     "data": {
      "application/javascript": [
       "window.require && require([\"base/js/namespace\"],function(Jupyter){Jupyter.notebook.save_checkpoint()})"
      ],
      "text/plain": [
       "<IPython.core.display.Javascript object>"
      ]
     },
     "metadata": {},
     "output_type": "display_data"
    },
    {
     "name": "stdout",
     "output_type": "stream",
     "text": [
      "[jovian] Updating notebook \"trineshnk/numpy-array-operations\" on https://jovian.ai\u001b[0m\n",
      "[jovian] Committed successfully! https://jovian.ai/trineshnk/numpy-array-operations\u001b[0m\n"
     ]
    },
    {
     "data": {
      "text/plain": [
       "'https://jovian.ai/trineshnk/numpy-array-operations'"
      ]
     },
     "execution_count": 293,
     "metadata": {},
     "output_type": "execute_result"
    }
   ],
   "source": [
    "jovian.commit()"
   ]
  },
  {
   "cell_type": "markdown",
   "id": "cade153f",
   "metadata": {},
   "source": [
    "## Conclusion\n",
    "\n",
    "Summarize what was covered in this notebook, and where to go next"
   ]
  },
  {
   "cell_type": "markdown",
   "id": "52a2513b",
   "metadata": {},
   "source": [
    "## Reference Links\n",
    "Provide links to your references and other interesting articles about Numpy arrays:\n",
    "* Numpy official tutorial : https://numpy.org/doc/stable/user/quickstart.html\n",
    "* ..."
   ]
  },
  {
   "cell_type": "code",
   "execution_count": 294,
   "id": "236c3165",
   "metadata": {},
   "outputs": [
    {
     "data": {
      "application/javascript": [
       "window.require && require([\"base/js/namespace\"],function(Jupyter){Jupyter.notebook.save_checkpoint()})"
      ],
      "text/plain": [
       "<IPython.core.display.Javascript object>"
      ]
     },
     "metadata": {},
     "output_type": "display_data"
    },
    {
     "name": "stdout",
     "output_type": "stream",
     "text": [
      "[jovian] Updating notebook \"trineshnk/numpy-array-operations\" on https://jovian.ai\u001b[0m\n",
      "[jovian] Committed successfully! https://jovian.ai/trineshnk/numpy-array-operations\u001b[0m\n"
     ]
    },
    {
     "data": {
      "text/plain": [
       "'https://jovian.ai/trineshnk/numpy-array-operations'"
      ]
     },
     "execution_count": 294,
     "metadata": {},
     "output_type": "execute_result"
    }
   ],
   "source": [
    "jovian.commit()"
   ]
  },
  {
   "cell_type": "code",
   "execution_count": null,
   "id": "6a17ddb3",
   "metadata": {},
   "outputs": [],
   "source": []
  }
 ],
 "metadata": {
  "kernelspec": {
   "display_name": "Python 3 (ipykernel)",
   "language": "python",
   "name": "python3"
  },
  "language_info": {
   "codemirror_mode": {
    "name": "ipython",
    "version": 3
   },
   "file_extension": ".py",
   "mimetype": "text/x-python",
   "name": "python",
   "nbconvert_exporter": "python",
   "pygments_lexer": "ipython3",
   "version": "3.9.6"
  }
 },
 "nbformat": 4,
 "nbformat_minor": 5
}
